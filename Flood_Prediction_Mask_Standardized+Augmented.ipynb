{
 "cells": [
  {
   "cell_type": "code",
   "execution_count": 1,
   "id": "ab2cb3de-ae3f-418e-a01e-74e926e39db4",
   "metadata": {},
   "outputs": [],
   "source": [
    "import os\n",
    "import cv2\n",
    "import numpy as np\n",
    "from tqdm import tqdm\n",
    "from glob import glob\n",
    "import pandas as pd\n",
    "import matplotlib.pyplot as plt\n",
    "import seaborn as sns\n",
    "import tifffile as tiff\n",
    "import glob\n",
    "from PIL import Image\n",
    "import json\n",
    "import rasterio as ras"
   ]
  },
  {
   "cell_type": "code",
   "execution_count": 3,
   "id": "567bd9c3-d71f-4f31-8a50-504f4eaa1b89",
   "metadata": {},
   "outputs": [],
   "source": [
    "input_dir = r\"mmflood/mmflood/Output/Mask\"\n",
    "output_dir = r\"mmflood/mmflood/Output/Mask_Standardized\" \n",
    "os.makedirs(output_dir, exist_ok=True)"
   ]
  },
  {
   "cell_type": "code",
   "execution_count": 9,
   "id": "901c2967-4d91-41c5-9afa-a9583883bba5",
   "metadata": {},
   "outputs": [
    {
     "name": "stdout",
     "output_type": "stream",
     "text": [
      "Found 1748 Mask files.\n"
     ]
    }
   ],
   "source": [
    "mask_files = []\n",
    "for root, dirs, files in os.walk(input_dir):\n",
    "    if \"mask\" in root.lower():  \n",
    "        for file in files:\n",
    "            if file.endswith(\".png\") or file.endswith(\".jpg\"):\n",
    "                mask_files.append(os.path.join(root, file))\n",
    "\n",
    "print(f\"Found {len(mask_files)} Mask files.\")"
   ]
  },
  {
   "cell_type": "code",
   "execution_count": 15,
   "id": "77fec4f1-c6a9-4752-b3ca-9835b57aa8ed",
   "metadata": {},
   "outputs": [],
   "source": [
    "def preprocess_images(mask_files, output_dir, size=(512, 512)):\n",
    "    os.makedirs(output_dir, exist_ok=True)\n",
    "\n",
    "    if not mask_files:\n",
    "        print(\"No Mask images found for processing.\")\n",
    "        return\n",
    "\n",
    "    for img_path in tqdm(mask_files, desc=\"Processing Images\"):\n",
    "        img = cv2.imread(img_path, cv2.IMREAD_UNCHANGED)\n",
    "        if img is None:\n",
    "            print(f\"Warning: Unable to read {img_path}\")\n",
    "            continue\n",
    "        \n",
    "        img = cv2.resize(img, size, interpolation=cv2.INTER_LINEAR)\n",
    "        img = img.astype(np.float32) / 255.0  \n",
    "\n",
    "        save_path = os.path.join(output_dir, os.path.basename(img_path))\n",
    "        cv2.imwrite(save_path, (img * 255).astype(np.uint8))\n",
    "\n",
    "    print(f\"Resized and standardized images saved in: {output_dir}\")"
   ]
  },
  {
   "cell_type": "code",
   "execution_count": 17,
   "id": "816e345e-f80a-4af3-bbf6-e5a11c3bd24c",
   "metadata": {},
   "outputs": [
    {
     "name": "stderr",
     "output_type": "stream",
     "text": [
      "Processing Images: 100%|██████████| 1748/1748 [06:26<00:00,  4.53it/s]"
     ]
    },
    {
     "name": "stdout",
     "output_type": "stream",
     "text": [
      "Resized and standardized images saved in: mmflood/mmflood/Output/Mask_Standardized\n"
     ]
    },
    {
     "name": "stderr",
     "output_type": "stream",
     "text": [
      "\n"
     ]
    }
   ],
   "source": [
    "preprocess_images(mask_files, output_dir)"
   ]
  },
  {
   "cell_type": "code",
   "execution_count": null,
   "id": "8e921665-41f5-481b-a48d-0f6272edbe03",
   "metadata": {},
   "outputs": [],
   "source": []
  }
 ],
 "metadata": {
  "kernelspec": {
   "display_name": "Python 3 (ipykernel)",
   "language": "python",
   "name": "python3"
  },
  "language_info": {
   "codemirror_mode": {
    "name": "ipython",
    "version": 3
   },
   "file_extension": ".py",
   "mimetype": "text/x-python",
   "name": "python",
   "nbconvert_exporter": "python",
   "pygments_lexer": "ipython3",
   "version": "3.12.4"
  }
 },
 "nbformat": 4,
 "nbformat_minor": 5
}
