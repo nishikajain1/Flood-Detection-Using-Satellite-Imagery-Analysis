{
 "cells": [
  {
   "cell_type": "code",
   "execution_count": 13,
   "id": "64d4fead-b3f9-4504-b20a-cb113ef78779",
   "metadata": {},
   "outputs": [],
   "source": [
    "import os\n",
    "import cv2\n",
    "import numpy as np\n",
    "from tqdm import tqdm\n",
    "from glob import glob\n",
    "import pandas as pd\n",
    "import matplotlib.pyplot as plt\n",
    "import seaborn as sns\n",
    "import tifffile as tiff\n",
    "import glob\n",
    "from PIL import Image\n",
    "import json\n",
    "import rasterio as ras"
   ]
  },
  {
   "cell_type": "code",
   "execution_count": 27,
   "id": "22fa19bc-4a77-43f7-940a-f323b2b81e4d",
   "metadata": {},
   "outputs": [],
   "source": [
    "input_dir = r\"mmflood/mmflood/Output/DEM\"\n",
    "output_dir = r\"mmflood/mmflood/Output/DEM_Standardized\" \n",
    "os.makedirs(output_dir, exist_ok=True)"
   ]
  },
  {
   "cell_type": "code",
   "execution_count": 29,
   "id": "0429f434-4c75-4d15-943d-98924585c755",
   "metadata": {},
   "outputs": [
    {
     "name": "stdout",
     "output_type": "stream",
     "text": [
      "Found 1748 DEM files.\n"
     ]
    }
   ],
   "source": [
    "dem_files = []\n",
    "for root, dirs, files in os.walk(input_dir):\n",
    "    if \"dem\" in root.lower():  \n",
    "        for file in files:\n",
    "            if file.endswith(\".png\") or file.endswith(\".jpg\"):\n",
    "                dem_files.append(os.path.join(root, file))\n",
    "\n",
    "print(f\"Found {len(dem_files)} DEM files.\")"
   ]
  },
  {
   "cell_type": "code",
   "execution_count": 31,
   "id": "721ead5b-f644-40e3-b8b7-f37763e5be39",
   "metadata": {},
   "outputs": [],
   "source": [
    "def preprocess_images(dem_files, output_dir, size=(512, 512)):\n",
    "    os.makedirs(output_dir, exist_ok=True)\n",
    "\n",
    "    if not dem_files:\n",
    "        print(\"No DEM images found for processing.\")\n",
    "        return\n",
    "\n",
    "    for img_path in tqdm(dem_files, desc=\"Processing Images\"):\n",
    "        img = cv2.imread(img_path, cv2.IMREAD_UNCHANGED)\n",
    "        if img is None:\n",
    "            print(f\"Warning: Unable to read {img_path}\")\n",
    "            continue\n",
    "        \n",
    "        img = cv2.resize(img, size, interpolation=cv2.INTER_LINEAR)\n",
    "        img = img.astype(np.float32) / 255.0  \n",
    "\n",
    "        save_path = os.path.join(output_dir, os.path.basename(img_path))\n",
    "        cv2.imwrite(save_path, (img * 255).astype(np.uint8))\n",
    "\n",
    "    print(f\"Resized and standardized images saved in: {output_dir}\")"
   ]
  },
  {
   "cell_type": "code",
   "execution_count": 33,
   "id": "1f8c7d07-525d-492f-abd4-b3a165bbd206",
   "metadata": {},
   "outputs": [
    {
     "name": "stderr",
     "output_type": "stream",
     "text": [
      "Processing Images: 100%|██████████| 1748/1748 [06:20<00:00,  4.59it/s]"
     ]
    },
    {
     "name": "stdout",
     "output_type": "stream",
     "text": [
      "Resized and standardized images saved in: mmflood/mmflood/Output/DEM_Standardized\n"
     ]
    },
    {
     "name": "stderr",
     "output_type": "stream",
     "text": [
      "\n"
     ]
    }
   ],
   "source": [
    "preprocess_images(dem_files, output_dir)"
   ]
  },
  {
   "cell_type": "code",
   "execution_count": null,
   "id": "86fa13ea-8f7b-4b45-8d30-7214ad986933",
   "metadata": {},
   "outputs": [],
   "source": []
  }
 ],
 "metadata": {
  "kernelspec": {
   "display_name": "Python 3 (ipykernel)",
   "language": "python",
   "name": "python3"
  },
  "language_info": {
   "codemirror_mode": {
    "name": "ipython",
    "version": 3
   },
   "file_extension": ".py",
   "mimetype": "text/x-python",
   "name": "python",
   "nbconvert_exporter": "python",
   "pygments_lexer": "ipython3",
   "version": "3.12.4"
  }
 },
 "nbformat": 4,
 "nbformat_minor": 5
}
