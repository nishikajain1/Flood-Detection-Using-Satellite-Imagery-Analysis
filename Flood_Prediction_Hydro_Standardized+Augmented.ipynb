{
 "cells": [
  {
   "cell_type": "code",
   "execution_count": 1,
   "id": "8da5ed8e-872e-4587-94de-68f23a1da81f",
   "metadata": {},
   "outputs": [],
   "source": [
    "import os\n",
    "import cv2\n",
    "import numpy as np\n",
    "from tqdm import tqdm\n",
    "from glob import glob\n",
    "import pandas as pd\n",
    "import matplotlib.pyplot as plt\n",
    "import seaborn as sns\n",
    "import tifffile as tiff\n",
    "import glob\n",
    "from PIL import Image\n",
    "import json\n",
    "import rasterio as ras"
   ]
  },
  {
   "cell_type": "code",
   "execution_count": 3,
   "id": "78e33e42-63db-417b-9615-151a2a320a66",
   "metadata": {},
   "outputs": [],
   "source": [
    "input_dir = r\"mmflood/mmflood/Output/Hydro\"\n",
    "output_dir = r\"mmflood/mmflood/Output/Hydro_Standardized\" \n",
    "os.makedirs(output_dir, exist_ok=True)"
   ]
  },
  {
   "cell_type": "code",
   "execution_count": 9,
   "id": "ad39a10c-8774-4a5d-8cd7-d2131701753a",
   "metadata": {},
   "outputs": [
    {
     "name": "stdout",
     "output_type": "stream",
     "text": [
      "Found 1012 Hydro files.\n"
     ]
    }
   ],
   "source": [
    "hydro_files = []\n",
    "for root, dirs, files in os.walk(input_dir):\n",
    "    if \"hydro\" in root.lower():  \n",
    "        for file in files:\n",
    "            if file.endswith(\".png\") or file.endswith(\".jpg\"):\n",
    "                hydro_files.append(os.path.join(root, file))\n",
    "\n",
    "print(f\"Found {len(hydro_files)} Hydro files.\")"
   ]
  },
  {
   "cell_type": "code",
   "execution_count": 11,
   "id": "ef52fea2-bd37-422a-b170-ef679e217dde",
   "metadata": {},
   "outputs": [],
   "source": [
    "def preprocess_images(hydro_files, output_dir, size=(512, 512)):\n",
    "    os.makedirs(output_dir, exist_ok=True)\n",
    "\n",
    "    if not hydro_files:\n",
    "        print(\"No Hydro images found for processing.\")\n",
    "        return\n",
    "\n",
    "    for img_path in tqdm(hydro_files, desc=\"Processing Images\"):\n",
    "        img = cv2.imread(img_path, cv2.IMREAD_UNCHANGED)\n",
    "        if img is None:\n",
    "            print(f\"Warning: Unable to read {img_path}\")\n",
    "            continue\n",
    "        \n",
    "        img = cv2.resize(img, size, interpolation=cv2.INTER_LINEAR)\n",
    "        img = img.astype(np.float32) / 255.0  \n",
    "\n",
    "        save_path = os.path.join(output_dir, os.path.basename(img_path))\n",
    "        cv2.imwrite(save_path, (img * 255).astype(np.uint8))\n",
    "\n",
    "    print(f\"Resized and standardized images saved in: {output_dir}\")"
   ]
  },
  {
   "cell_type": "code",
   "execution_count": 13,
   "id": "f5fd5153-8fd7-45c7-9627-3f740ceeeade",
   "metadata": {},
   "outputs": [
    {
     "name": "stderr",
     "output_type": "stream",
     "text": [
      "Processing Images: 100%|██████████| 1012/1012 [02:49<00:00,  5.96it/s]"
     ]
    },
    {
     "name": "stdout",
     "output_type": "stream",
     "text": [
      "Resized and standardized images saved in: mmflood/mmflood/Output/Hydro_Standardized\n"
     ]
    },
    {
     "name": "stderr",
     "output_type": "stream",
     "text": [
      "\n"
     ]
    }
   ],
   "source": [
    "preprocess_images(hydro_files, output_dir)"
   ]
  },
  {
   "cell_type": "code",
   "execution_count": null,
   "id": "a7ec329c-dfd0-43ba-b2cc-7d98be809c49",
   "metadata": {},
   "outputs": [],
   "source": []
  }
 ],
 "metadata": {
  "kernelspec": {
   "display_name": "Python 3 (ipykernel)",
   "language": "python",
   "name": "python3"
  },
  "language_info": {
   "codemirror_mode": {
    "name": "ipython",
    "version": 3
   },
   "file_extension": ".py",
   "mimetype": "text/x-python",
   "name": "python",
   "nbconvert_exporter": "python",
   "pygments_lexer": "ipython3",
   "version": "3.12.4"
  }
 },
 "nbformat": 4,
 "nbformat_minor": 5
}
